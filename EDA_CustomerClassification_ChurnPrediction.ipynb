{
 "cells": [
  {
   "cell_type": "markdown",
   "metadata": {},
   "source": [
    "# Exploratory Data Analysis \n",
    "\n",
    "Let’s import the necessary libraries, and store the data in our system for analysis. Data is taken from:\n",
    "http://archive.ics.uci.edu/ml/datasets/Online+Retail+II"
   ]
  },
  {
   "cell_type": "code",
   "execution_count": 1,
   "metadata": {},
   "outputs": [],
   "source": [
    "import pandas as pd\n",
    "import matplotlib.pyplot as plt\n",
    "import numpy as np\n",
    "from datetime import timedelta\n",
    "from sklearn.preprocessing import LabelEncoder\n",
    "from sklearn.preprocessing import StandardScaler\n",
    "from sklearn.model_selection import train_test_split\n",
    "from sklearn.linear_model import LogisticRegression\n",
    "from sklearn.ensemble import RandomForestClassifier\n",
    "from sklearn.metrics import classification_report"
   ]
  },
  {
   "cell_type": "code",
   "execution_count": 2,
   "metadata": {},
   "outputs": [],
   "source": [
    "data = pd.read_excel('online_retail_II.xlsx', sheet_name=None)"
   ]
  },
  {
   "cell_type": "markdown",
   "metadata": {},
   "source": [
    "Let's have a look at the data. "
   ]
  },
  {
   "cell_type": "code",
   "execution_count": 87,
   "metadata": {},
   "outputs": [
    {
     "data": {
      "text/plain": [
       "{'Year 2009-2010':        Invoice StockCode                          Description  Quantity  \\\n",
       " 0       489434     85048  15CM CHRISTMAS GLASS BALL 20 LIGHTS        12   \n",
       " 1       489434    79323P                   PINK CHERRY LIGHTS        12   \n",
       " 2       489434    79323W                  WHITE CHERRY LIGHTS        12   \n",
       " 3       489434     22041         RECORD FRAME 7\" SINGLE SIZE         48   \n",
       " 4       489434     21232       STRAWBERRY CERAMIC TRINKET BOX        24   \n",
       " ...        ...       ...                                  ...       ...   \n",
       " 525456  538171     22271                 FELTCRAFT DOLL ROSIE         2   \n",
       " 525457  538171     22750         FELTCRAFT PRINCESS LOLA DOLL         1   \n",
       " 525458  538171     22751       FELTCRAFT PRINCESS OLIVIA DOLL         1   \n",
       " 525459  538171     20970   PINK FLORAL FELTCRAFT SHOULDER BAG         2   \n",
       " 525460  538171     21931               JUMBO STORAGE BAG SUKI         2   \n",
       " \n",
       "                InvoiceDate  Price  Customer ID         Country  \n",
       " 0      2009-12-01 07:45:00   6.95      13085.0  United Kingdom  \n",
       " 1      2009-12-01 07:45:00   6.75      13085.0  United Kingdom  \n",
       " 2      2009-12-01 07:45:00   6.75      13085.0  United Kingdom  \n",
       " 3      2009-12-01 07:45:00   2.10      13085.0  United Kingdom  \n",
       " 4      2009-12-01 07:45:00   1.25      13085.0  United Kingdom  \n",
       " ...                    ...    ...          ...             ...  \n",
       " 525456 2010-12-09 20:01:00   2.95      17530.0  United Kingdom  \n",
       " 525457 2010-12-09 20:01:00   3.75      17530.0  United Kingdom  \n",
       " 525458 2010-12-09 20:01:00   3.75      17530.0  United Kingdom  \n",
       " 525459 2010-12-09 20:01:00   3.75      17530.0  United Kingdom  \n",
       " 525460 2010-12-09 20:01:00   1.95      17530.0  United Kingdom  \n",
       " \n",
       " [525461 rows x 8 columns],\n",
       " 'Year 2010-2011':        Invoice StockCode                          Description  Quantity  \\\n",
       " 0       536365    85123A   WHITE HANGING HEART T-LIGHT HOLDER         6   \n",
       " 1       536365     71053                  WHITE METAL LANTERN         6   \n",
       " 2       536365    84406B       CREAM CUPID HEARTS COAT HANGER         8   \n",
       " 3       536365    84029G  KNITTED UNION FLAG HOT WATER BOTTLE         6   \n",
       " 4       536365    84029E       RED WOOLLY HOTTIE WHITE HEART.         6   \n",
       " ...        ...       ...                                  ...       ...   \n",
       " 541905  581587     22899         CHILDREN'S APRON DOLLY GIRL          6   \n",
       " 541906  581587     23254        CHILDRENS CUTLERY DOLLY GIRL          4   \n",
       " 541907  581587     23255      CHILDRENS CUTLERY CIRCUS PARADE         4   \n",
       " 541908  581587     22138        BAKING SET 9 PIECE RETROSPOT          3   \n",
       " 541909  581587      POST                              POSTAGE         1   \n",
       " \n",
       "                InvoiceDate  Price  Customer ID         Country  \n",
       " 0      2010-12-01 08:26:00   2.55      17850.0  United Kingdom  \n",
       " 1      2010-12-01 08:26:00   3.39      17850.0  United Kingdom  \n",
       " 2      2010-12-01 08:26:00   2.75      17850.0  United Kingdom  \n",
       " 3      2010-12-01 08:26:00   3.39      17850.0  United Kingdom  \n",
       " 4      2010-12-01 08:26:00   3.39      17850.0  United Kingdom  \n",
       " ...                    ...    ...          ...             ...  \n",
       " 541905 2011-12-09 12:50:00   2.10      12680.0          France  \n",
       " 541906 2011-12-09 12:50:00   4.15      12680.0          France  \n",
       " 541907 2011-12-09 12:50:00   4.15      12680.0          France  \n",
       " 541908 2011-12-09 12:50:00   4.95      12680.0          France  \n",
       " 541909 2011-12-09 12:50:00  18.00      12680.0          France  \n",
       " \n",
       " [541910 rows x 8 columns]}"
      ]
     },
     "execution_count": 87,
     "metadata": {},
     "output_type": "execute_result"
    }
   ],
   "source": [
    "data"
   ]
  },
  {
   "cell_type": "markdown",
   "metadata": {},
   "source": [
    "There are 2 sheets for different time period with 8 columns. We can simply combine the 2 data sheets."
   ]
  },
  {
   "cell_type": "code",
   "execution_count": 88,
   "metadata": {},
   "outputs": [
    {
     "data": {
      "text/html": [
       "<div>\n",
       "<style scoped>\n",
       "    .dataframe tbody tr th:only-of-type {\n",
       "        vertical-align: middle;\n",
       "    }\n",
       "\n",
       "    .dataframe tbody tr th {\n",
       "        vertical-align: top;\n",
       "    }\n",
       "\n",
       "    .dataframe thead th {\n",
       "        text-align: right;\n",
       "    }\n",
       "</style>\n",
       "<table border=\"1\" class=\"dataframe\">\n",
       "  <thead>\n",
       "    <tr style=\"text-align: right;\">\n",
       "      <th></th>\n",
       "      <th>Invoice</th>\n",
       "      <th>StockCode</th>\n",
       "      <th>Description</th>\n",
       "      <th>Quantity</th>\n",
       "      <th>InvoiceDate</th>\n",
       "      <th>Price</th>\n",
       "      <th>Customer ID</th>\n",
       "      <th>Country</th>\n",
       "    </tr>\n",
       "  </thead>\n",
       "  <tbody>\n",
       "    <tr>\n",
       "      <th>0</th>\n",
       "      <td>489434</td>\n",
       "      <td>85048</td>\n",
       "      <td>15CM CHRISTMAS GLASS BALL 20 LIGHTS</td>\n",
       "      <td>12</td>\n",
       "      <td>2009-12-01 07:45:00</td>\n",
       "      <td>6.95</td>\n",
       "      <td>13085.0</td>\n",
       "      <td>United Kingdom</td>\n",
       "    </tr>\n",
       "    <tr>\n",
       "      <th>1</th>\n",
       "      <td>489434</td>\n",
       "      <td>79323P</td>\n",
       "      <td>PINK CHERRY LIGHTS</td>\n",
       "      <td>12</td>\n",
       "      <td>2009-12-01 07:45:00</td>\n",
       "      <td>6.75</td>\n",
       "      <td>13085.0</td>\n",
       "      <td>United Kingdom</td>\n",
       "    </tr>\n",
       "    <tr>\n",
       "      <th>2</th>\n",
       "      <td>489434</td>\n",
       "      <td>79323W</td>\n",
       "      <td>WHITE CHERRY LIGHTS</td>\n",
       "      <td>12</td>\n",
       "      <td>2009-12-01 07:45:00</td>\n",
       "      <td>6.75</td>\n",
       "      <td>13085.0</td>\n",
       "      <td>United Kingdom</td>\n",
       "    </tr>\n",
       "    <tr>\n",
       "      <th>3</th>\n",
       "      <td>489434</td>\n",
       "      <td>22041</td>\n",
       "      <td>RECORD FRAME 7\" SINGLE SIZE</td>\n",
       "      <td>48</td>\n",
       "      <td>2009-12-01 07:45:00</td>\n",
       "      <td>2.10</td>\n",
       "      <td>13085.0</td>\n",
       "      <td>United Kingdom</td>\n",
       "    </tr>\n",
       "    <tr>\n",
       "      <th>4</th>\n",
       "      <td>489434</td>\n",
       "      <td>21232</td>\n",
       "      <td>STRAWBERRY CERAMIC TRINKET BOX</td>\n",
       "      <td>24</td>\n",
       "      <td>2009-12-01 07:45:00</td>\n",
       "      <td>1.25</td>\n",
       "      <td>13085.0</td>\n",
       "      <td>United Kingdom</td>\n",
       "    </tr>\n",
       "  </tbody>\n",
       "</table>\n",
       "</div>"
      ],
      "text/plain": [
       "  Invoice StockCode                          Description  Quantity  \\\n",
       "0  489434     85048  15CM CHRISTMAS GLASS BALL 20 LIGHTS        12   \n",
       "1  489434    79323P                   PINK CHERRY LIGHTS        12   \n",
       "2  489434    79323W                  WHITE CHERRY LIGHTS        12   \n",
       "3  489434     22041         RECORD FRAME 7\" SINGLE SIZE         48   \n",
       "4  489434     21232       STRAWBERRY CERAMIC TRINKET BOX        24   \n",
       "\n",
       "          InvoiceDate  Price  Customer ID         Country  \n",
       "0 2009-12-01 07:45:00   6.95      13085.0  United Kingdom  \n",
       "1 2009-12-01 07:45:00   6.75      13085.0  United Kingdom  \n",
       "2 2009-12-01 07:45:00   6.75      13085.0  United Kingdom  \n",
       "3 2009-12-01 07:45:00   2.10      13085.0  United Kingdom  \n",
       "4 2009-12-01 07:45:00   1.25      13085.0  United Kingdom  "
      ]
     },
     "execution_count": 88,
     "metadata": {},
     "output_type": "execute_result"
    }
   ],
   "source": [
    "df = pd.concat(data[frame] for frame in data.keys())\n",
    "df.head()"
   ]
  },
  {
   "cell_type": "code",
   "execution_count": 89,
   "metadata": {},
   "outputs": [
    {
     "name": "stdout",
     "output_type": "stream",
     "text": [
      "<class 'pandas.core.frame.DataFrame'>\n",
      "Int64Index: 1067371 entries, 0 to 541909\n",
      "Data columns (total 8 columns):\n",
      " #   Column       Non-Null Count    Dtype         \n",
      "---  ------       --------------    -----         \n",
      " 0   Invoice      1067371 non-null  object        \n",
      " 1   StockCode    1067371 non-null  object        \n",
      " 2   Description  1062989 non-null  object        \n",
      " 3   Quantity     1067371 non-null  int64         \n",
      " 4   InvoiceDate  1067371 non-null  datetime64[ns]\n",
      " 5   Price        1067371 non-null  float64       \n",
      " 6   Customer ID  824364 non-null   float64       \n",
      " 7   Country      1067371 non-null  object        \n",
      "dtypes: datetime64[ns](1), float64(2), int64(1), object(4)\n",
      "memory usage: 73.3+ MB\n"
     ]
    }
   ],
   "source": [
    "df.info()\n"
   ]
  },
  {
   "cell_type": "markdown",
   "metadata": {},
   "source": [
    "There are 1,067,371 rows (records). There are NULL values in the Customer ID and Country fields. We need to get rid of them."
   ]
  },
  {
   "cell_type": "code",
   "execution_count": 90,
   "metadata": {},
   "outputs": [],
   "source": [
    "df = df[df['Customer ID'].notnull()]\n",
    "#df.isnull().sum().sort_values(ascending=False)"
   ]
  },
  {
   "cell_type": "markdown",
   "metadata": {},
   "source": [
    "If there is any duplicated data that needs to be removed as well."
   ]
  },
  {
   "cell_type": "code",
   "execution_count": 91,
   "metadata": {},
   "outputs": [],
   "source": [
    "df.drop_duplicates();"
   ]
  },
  {
   "cell_type": "markdown",
   "metadata": {},
   "source": [
    "Now we have a clean dataset. Let's start analysing. "
   ]
  },
  {
   "cell_type": "markdown",
   "metadata": {},
   "source": [
    "Some rows have the same Invoice number which means there are transactions for multiple items per customer. How many unique transactions do we have?"
   ]
  },
  {
   "cell_type": "code",
   "execution_count": 92,
   "metadata": {},
   "outputs": [
    {
     "name": "stdout",
     "output_type": "stream",
     "text": [
      "44876 invoice\n",
      "5942 customers\n"
     ]
    }
   ],
   "source": [
    "print(df.Invoice.nunique(), 'invoice')\n",
    "print(df['Customer ID'].nunique(), 'customers')"
   ]
  },
  {
   "cell_type": "markdown",
   "metadata": {},
   "source": [
    "How many unique transactions per country? (Print only the head of the data frame) "
   ]
  },
  {
   "cell_type": "code",
   "execution_count": 93,
   "metadata": {},
   "outputs": [
    {
     "data": {
      "text/plain": [
       "Country\n",
       "United Kingdom    40505\n",
       "Germany            1095\n",
       "France              738\n",
       "EIRE                727\n",
       "Netherlands         250\n",
       "Name: Invoice, dtype: int64"
      ]
     },
     "execution_count": 93,
     "metadata": {},
     "output_type": "execute_result"
    }
   ],
   "source": [
    "tr_per_country = df.groupby('Country')['Invoice'].nunique(dropna = True).sort_values(ascending=False)\n",
    "tr_per_country.head()"
   ]
  },
  {
   "cell_type": "markdown",
   "metadata": {},
   "source": [
    "Let's check how many customers each country have."
   ]
  },
  {
   "cell_type": "code",
   "execution_count": 94,
   "metadata": {},
   "outputs": [
    {
     "data": {
      "text/plain": [
       "Country\n",
       "United Kingdom    5410\n",
       "Germany            107\n",
       "France              95\n",
       "Spain               41\n",
       "Belgium             29\n",
       "Name: Customer ID, dtype: int64"
      ]
     },
     "execution_count": 94,
     "metadata": {},
     "output_type": "execute_result"
    }
   ],
   "source": [
    "df.groupby('Country')['Customer ID'].nunique().sort_values(ascending=False).head()"
   ]
  },
  {
   "cell_type": "markdown",
   "metadata": {},
   "source": [
    "So in UK, there are 5410 customers and from these customers there are 40,505 unique invoices."
   ]
  },
  {
   "cell_type": "markdown",
   "metadata": {},
   "source": [
    "Let's check how much money each customer spends? First we need to calculate the total amount of money spent on each sale by adding a new column (Total = Quantity * Price). "
   ]
  },
  {
   "cell_type": "code",
   "execution_count": 95,
   "metadata": {},
   "outputs": [],
   "source": [
    "df['Total'] = df.Quantity * df.Price\n"
   ]
  },
  {
   "cell_type": "code",
   "execution_count": 96,
   "metadata": {},
   "outputs": [
    {
     "data": {
      "text/html": [
       "<div>\n",
       "<style scoped>\n",
       "    .dataframe tbody tr th:only-of-type {\n",
       "        vertical-align: middle;\n",
       "    }\n",
       "\n",
       "    .dataframe tbody tr th {\n",
       "        vertical-align: top;\n",
       "    }\n",
       "\n",
       "    .dataframe thead th {\n",
       "        text-align: right;\n",
       "    }\n",
       "</style>\n",
       "<table border=\"1\" class=\"dataframe\">\n",
       "  <thead>\n",
       "    <tr style=\"text-align: right;\">\n",
       "      <th></th>\n",
       "      <th>Quantity</th>\n",
       "      <th>Price</th>\n",
       "      <th>Total</th>\n",
       "    </tr>\n",
       "  </thead>\n",
       "  <tbody>\n",
       "    <tr>\n",
       "      <th>count</th>\n",
       "      <td>824364.000000</td>\n",
       "      <td>824364.000000</td>\n",
       "      <td>824364.000000</td>\n",
       "    </tr>\n",
       "    <tr>\n",
       "      <th>mean</th>\n",
       "      <td>12.414574</td>\n",
       "      <td>3.676800</td>\n",
       "      <td>20.195317</td>\n",
       "    </tr>\n",
       "    <tr>\n",
       "      <th>std</th>\n",
       "      <td>188.976099</td>\n",
       "      <td>70.241388</td>\n",
       "      <td>308.685001</td>\n",
       "    </tr>\n",
       "    <tr>\n",
       "      <th>min</th>\n",
       "      <td>-80995.000000</td>\n",
       "      <td>0.000000</td>\n",
       "      <td>-168469.600000</td>\n",
       "    </tr>\n",
       "    <tr>\n",
       "      <th>25%</th>\n",
       "      <td>2.000000</td>\n",
       "      <td>1.250000</td>\n",
       "      <td>4.250000</td>\n",
       "    </tr>\n",
       "    <tr>\n",
       "      <th>50%</th>\n",
       "      <td>5.000000</td>\n",
       "      <td>1.950000</td>\n",
       "      <td>11.250000</td>\n",
       "    </tr>\n",
       "    <tr>\n",
       "      <th>75%</th>\n",
       "      <td>12.000000</td>\n",
       "      <td>3.750000</td>\n",
       "      <td>19.500000</td>\n",
       "    </tr>\n",
       "    <tr>\n",
       "      <th>max</th>\n",
       "      <td>80995.000000</td>\n",
       "      <td>38970.000000</td>\n",
       "      <td>168469.600000</td>\n",
       "    </tr>\n",
       "  </tbody>\n",
       "</table>\n",
       "</div>"
      ],
      "text/plain": [
       "            Quantity          Price          Total\n",
       "count  824364.000000  824364.000000  824364.000000\n",
       "mean       12.414574       3.676800      20.195317\n",
       "std       188.976099      70.241388     308.685001\n",
       "min    -80995.000000       0.000000 -168469.600000\n",
       "25%         2.000000       1.250000       4.250000\n",
       "50%         5.000000       1.950000      11.250000\n",
       "75%        12.000000       3.750000      19.500000\n",
       "max     80995.000000   38970.000000  168469.600000"
      ]
     },
     "execution_count": 96,
     "metadata": {},
     "output_type": "execute_result"
    }
   ],
   "source": [
    "df[['Quantity', 'Price', 'Total']].describe()"
   ]
  },
  {
   "cell_type": "markdown",
   "metadata": {},
   "source": [
    "Above, in the statistics of data, we see customers on average purchase 12 items. We also see 'Quantity' and 'Total' columns have negative numbers. Negative quantity does not make sense. We should remove them. On average customers spend 20 UK pounds (assuming the unit is UK) while the maximum can be as high as 168,470 UK pounds."
   ]
  },
  {
   "cell_type": "code",
   "execution_count": 97,
   "metadata": {},
   "outputs": [],
   "source": [
    "df = df[df['Quantity'] > 0]"
   ]
  },
  {
   "cell_type": "markdown",
   "metadata": {},
   "source": [
    "Let's calculate the fraction of transaction per country and visualize it for only 5 countries with most sales. "
   ]
  },
  {
   "cell_type": "code",
   "execution_count": 98,
   "metadata": {},
   "outputs": [
    {
     "name": "stdout",
     "output_type": "stream",
     "text": [
      "United Kingdom    0.900295\n",
      "Germany           0.020733\n",
      "EIRE              0.019544\n",
      "France            0.017146\n",
      "Netherlands       0.006322\n",
      "Name: Country, dtype: float64\n",
      "%90 of sales are from United Kingdom.\n"
     ]
    },
    {
     "data": {
      "image/png": "[encoded data removed]",
      "text/plain": [
       "<Figure size 432x288 with 1 Axes>"
      ]
     },
     "metadata": {
      "needs_background": "light"
     },
     "output_type": "display_data"
    }
   ],
   "source": [
    "print(df.Country.value_counts(normalize=True).head())\n",
    "df['Country'].value_counts(normalize=True)[:5].plot(kind='bar', color = ['powderblue','lightsalmon','lightsalmon','lightsalmon','lightsalmon'])\n",
    "plt.xlabel(\"Fraction of Transactions\", labelpad=14)\n",
    "plt.ylabel(\"Country\", labelpad=14)\n",
    "plt.title(\"Fraction of Transaction per Country\", y=1.02);\n",
    "print('%90 of sales are from United Kingdom.')"
   ]
  },
  {
   "cell_type": "markdown",
   "metadata": {},
   "source": [
    "What about the total revenue per country?"
   ]
  },
  {
   "cell_type": "code",
   "execution_count": 99,
   "metadata": {},
   "outputs": [
    {
     "name": "stdout",
     "output_type": "stream",
     "text": [
      "Country\n",
      "United Kingdom    1.472315e+07\n",
      "EIRE              6.216311e+05\n",
      "Netherlands       5.542323e+05\n",
      "Germany           4.312625e+05\n",
      "France            3.552575e+05\n",
      "Name: Total, dtype: float64\n",
      "Total revenu:  17743429.178000007\n"
     ]
    },
    {
     "data": {
      "image/png": "[encoded data removed]",
      "text/plain": [
       "<Figure size 432x288 with 1 Axes>"
      ]
     },
     "metadata": {
      "needs_background": "light"
     },
     "output_type": "display_data"
    }
   ],
   "source": [
    "print(df.groupby(['Country'])['Total'].sum().sort_values(ascending=False)[:5])\n",
    "print('Total revenu: ', df['Total'].sum())\n",
    "(df.groupby(['Country'])['Total'].sum()/df['Total'].sum()).sort_values(ascending=False)[:5].plot(kind='bar', color = ['powderblue','lightsalmon','lightsalmon','lightsalmon','lightsalmon'])\n",
    "plt.xlabel(\"Revenue Fraction\", labelpad=14)\n",
    "plt.ylabel(\"Country\", labelpad=14)\n",
    "plt.title(\"Revenue per Country\", y=1.02);"
   ]
  },
  {
   "cell_type": "markdown",
   "metadata": {},
   "source": [
    "%83 of the revenue is coming from UK. But which customers make the most sales and which ones spend more? Let's find out."
   ]
  },
  {
   "cell_type": "code",
   "execution_count": 67,
   "metadata": {},
   "outputs": [
    {
     "data": {
      "text/plain": [
       "17841.0    12890\n",
       "14911.0    11247\n",
       "12748.0     7230\n",
       "14606.0     6566\n",
       "14096.0     5111\n",
       "           ...  \n",
       "13215.0        1\n",
       "13205.0        1\n",
       "13185.0        1\n",
       "18133.0        1\n",
       "15313.0        1\n",
       "Name: Customer ID, Length: 5881, dtype: int64"
      ]
     },
     "execution_count": 67,
     "metadata": {},
     "output_type": "execute_result"
    }
   ],
   "source": [
    "df['Customer ID'].value_counts()\n"
   ]
  },
  {
   "cell_type": "markdown",
   "metadata": {},
   "source": [
    "Within 5881 customers, the one with the Customer ID 17841 has the maximum number of transactions. Is it the one who spends most? Let's find out:\n"
   ]
  },
  {
   "cell_type": "code",
   "execution_count": 68,
   "metadata": {},
   "outputs": [
    {
     "data": {
      "text/html": [
       "<div>\n",
       "<style scoped>\n",
       "    .dataframe tbody tr th:only-of-type {\n",
       "        vertical-align: middle;\n",
       "    }\n",
       "\n",
       "    .dataframe tbody tr th {\n",
       "        vertical-align: top;\n",
       "    }\n",
       "\n",
       "    .dataframe thead th {\n",
       "        text-align: right;\n",
       "    }\n",
       "</style>\n",
       "<table border=\"1\" class=\"dataframe\">\n",
       "  <thead>\n",
       "    <tr style=\"text-align: right;\">\n",
       "      <th></th>\n",
       "      <th>Customer ID</th>\n",
       "      <th>Total</th>\n",
       "    </tr>\n",
       "  </thead>\n",
       "  <tbody>\n",
       "    <tr>\n",
       "      <th>0</th>\n",
       "      <td>18102.0</td>\n",
       "      <td>608821.65</td>\n",
       "    </tr>\n",
       "    <tr>\n",
       "      <th>1</th>\n",
       "      <td>14646.0</td>\n",
       "      <td>528602.52</td>\n",
       "    </tr>\n",
       "    <tr>\n",
       "      <th>2</th>\n",
       "      <td>14156.0</td>\n",
       "      <td>313946.37</td>\n",
       "    </tr>\n",
       "    <tr>\n",
       "      <th>3</th>\n",
       "      <td>14911.0</td>\n",
       "      <td>295972.63</td>\n",
       "    </tr>\n",
       "    <tr>\n",
       "      <th>4</th>\n",
       "      <td>17450.0</td>\n",
       "      <td>246973.09</td>\n",
       "    </tr>\n",
       "    <tr>\n",
       "      <th>...</th>\n",
       "      <td>...</td>\n",
       "      <td>...</td>\n",
       "    </tr>\n",
       "    <tr>\n",
       "      <th>5876</th>\n",
       "      <td>16738.0</td>\n",
       "      <td>3.75</td>\n",
       "    </tr>\n",
       "    <tr>\n",
       "      <th>5877</th>\n",
       "      <td>14095.0</td>\n",
       "      <td>2.95</td>\n",
       "    </tr>\n",
       "    <tr>\n",
       "      <th>5878</th>\n",
       "      <td>14827.0</td>\n",
       "      <td>0.00</td>\n",
       "    </tr>\n",
       "    <tr>\n",
       "      <th>5879</th>\n",
       "      <td>13256.0</td>\n",
       "      <td>0.00</td>\n",
       "    </tr>\n",
       "    <tr>\n",
       "      <th>5880</th>\n",
       "      <td>14103.0</td>\n",
       "      <td>0.00</td>\n",
       "    </tr>\n",
       "  </tbody>\n",
       "</table>\n",
       "<p>5881 rows × 2 columns</p>\n",
       "</div>"
      ],
      "text/plain": [
       "      Customer ID      Total\n",
       "0         18102.0  608821.65\n",
       "1         14646.0  528602.52\n",
       "2         14156.0  313946.37\n",
       "3         14911.0  295972.63\n",
       "4         17450.0  246973.09\n",
       "...           ...        ...\n",
       "5876      16738.0       3.75\n",
       "5877      14095.0       2.95\n",
       "5878      14827.0       0.00\n",
       "5879      13256.0       0.00\n",
       "5880      14103.0       0.00\n",
       "\n",
       "[5881 rows x 2 columns]"
      ]
     },
     "execution_count": 68,
     "metadata": {},
     "output_type": "execute_result"
    }
   ],
   "source": [
    "df.groupby(['Customer ID'])['Total'].sum().sort_values(ascending=False).reset_index()"
   ]
  },
  {
   "cell_type": "markdown",
   "metadata": {},
   "source": [
    "Although ID 17841 made the most transactions, the customer ID 18102 spent the most. Let's check which customers spend the most and provides the most of the revenue for the company?  "
   ]
  },
  {
   "cell_type": "code",
   "execution_count": 69,
   "metadata": {},
   "outputs": [
    {
     "name": "stdout",
     "output_type": "stream",
     "text": [
      "     Customer ID     Total\n",
      "0        18102.0  0.034313\n",
      "1        14646.0  0.064104\n",
      "2        14156.0  0.081798\n",
      "3        14911.0  0.098478\n",
      "4        17450.0  0.112397\n",
      "..           ...       ...\n",
      "253      15290.0  0.497418\n",
      "254      16782.0  0.498006\n",
      "255      14028.0  0.498592\n",
      "256      15296.0  0.499175\n",
      "257      14422.0  0.499754\n",
      "\n",
      "[258 rows x 2 columns]\n",
      "This means only 4 % customers provide the 50% revenue of the company.\n"
     ]
    },
    {
     "data": {
      "image/png": "[encoded data removed]",
      "text/plain": [
       "<Figure size 432x288 with 1 Axes>"
      ]
     },
     "metadata": {
      "needs_background": "light"
     },
     "output_type": "display_data"
    }
   ],
   "source": [
    "Revenue_per_customer_cumulative = (df.groupby(['Customer ID'])['Total'].sum().sort_values(ascending=False).cumsum()/df['Total'].sum()).reset_index()\n",
    "Revenue_per_customer_cumulative.plot(y='Total')\n",
    "plt.xlabel(\"Number of Customers\", labelpad=14)\n",
    "plt.ylabel(\"Fraction of total Revenue\", labelpad=14)\n",
    "\n",
    "print(Revenue_per_customer_cumulative[Revenue_per_customer_cumulative['Total']<0.5])\n",
    "print('This means only',round(len(Revenue_per_customer_cumulative[Revenue_per_customer_cumulative['Total']<0.5])* 100 /df['Customer ID'].nunique()),'%','customers provide the 50% revenue of the company.')\n"
   ]
  },
  {
   "cell_type": "markdown",
   "metadata": {},
   "source": [
    "A customer might seem like spending the most but maybe he/she made just a few orders with big amount. It does not mean that customer is a loyal customer. However, if they provide most of the revenue they are still the most important target customers. Now let's analze the customers based on the frequency of their transactions, and recency of their transctions. This is basically called RFM (Recency, Frequency, Monetary) analysis."
   ]
  },
  {
   "cell_type": "markdown",
   "metadata": {},
   "source": [
    "# RFM Analysis"
   ]
  },
  {
   "cell_type": "markdown",
   "metadata": {},
   "source": [
    "What is the date range in our data set?"
   ]
  },
  {
   "cell_type": "code",
   "execution_count": 70,
   "metadata": {},
   "outputs": [
    {
     "data": {
      "text/plain": [
       "(Timestamp('2009-12-01 07:45:00'), Timestamp('2011-12-09 12:50:00'))"
      ]
     },
     "execution_count": 70,
     "metadata": {},
     "output_type": "execute_result"
    }
   ],
   "source": [
    "df['InvoiceDate'].min(),df['InvoiceDate'].max()\n"
   ]
  },
  {
   "cell_type": "markdown",
   "metadata": {},
   "source": [
    "We need to create a recent date to calculate the recency of all dates in the data. For this let's add one day to the last day in the dataset."
   ]
  },
  {
   "cell_type": "code",
   "execution_count": 71,
   "metadata": {},
   "outputs": [
    {
     "name": "stdout",
     "output_type": "stream",
     "text": [
      "2011-12-10 12:50:00\n"
     ]
    }
   ],
   "source": [
    "recent_date = df['InvoiceDate'].max() + timedelta(days=1)\n",
    "print(recent_date)"
   ]
  },
  {
   "cell_type": "markdown",
   "metadata": {},
   "source": [
    "Now, let's group the data by Customer_ID and create new columns for the recency, frequency and monetary variables."
   ]
  },
  {
   "cell_type": "code",
   "execution_count": 72,
   "metadata": {},
   "outputs": [],
   "source": [
    "#print(data_rfm.head())\n",
    "data_rfm = df.groupby(['Customer ID']).agg({\n",
    "        'InvoiceDate': lambda date: (recent_date - date.max()).days,\n",
    "        'Invoice': lambda num: len(num),\n",
    "        'Total': lambda price: price.sum()})"
   ]
  },
  {
   "cell_type": "markdown",
   "metadata": {},
   "source": [
    "Rename the columns:"
   ]
  },
  {
   "cell_type": "code",
   "execution_count": 73,
   "metadata": {},
   "outputs": [],
   "source": [
    "data_rfm.rename(columns={'InvoiceDate': 'Recency',\n",
    "                         'Invoice': 'Frequency',\n",
    "                         'Total': 'Monetary'}, inplace=True)"
   ]
  },
  {
   "cell_type": "code",
   "execution_count": 74,
   "metadata": {},
   "outputs": [
    {
     "name": "stdout",
     "output_type": "stream",
     "text": [
      "             Recency  Frequency  Monetary\n",
      "Customer ID                              \n",
      "12346.0          326         34  77556.46\n",
      "12347.0            2        253   5633.32\n",
      "12348.0           75         51   2019.40\n",
      "12349.0           19        175   4428.69\n",
      "12350.0          310         17    334.40\n"
     ]
    }
   ],
   "source": [
    "print(data_rfm.head())"
   ]
  },
  {
   "cell_type": "markdown",
   "metadata": {},
   "source": [
    "Now we have a dataset for each Customer with their recency, frequency and monetary values."
   ]
  },
  {
   "cell_type": "code",
   "execution_count": 75,
   "metadata": {},
   "outputs": [
    {
     "data": {
      "image/png": "[encoded data removed]",
      "text/plain": [
       "<Figure size 720x288 with 4 Axes>"
      ]
     },
     "metadata": {
      "needs_background": "light"
     },
     "output_type": "display_data"
    }
   ],
   "source": [
    "data_rfm.hist(color='powderblue', range=(None),figsize=(10,4), log= True, layout=(1,4), grid=False);"
   ]
  },
  {
   "cell_type": "markdown",
   "metadata": {},
   "source": [
    "The customers with the smallest recency, and highest frequency and monetary are the top customers. Let's find them."
   ]
  },
  {
   "cell_type": "markdown",
   "metadata": {},
   "source": [
    "Now we will create groups based on their quantile membership by using qcut() function."
   ]
  },
  {
   "cell_type": "code",
   "execution_count": 76,
   "metadata": {},
   "outputs": [
    {
     "data": {
      "text/html": [
       "<div>\n",
       "<style scoped>\n",
       "    .dataframe tbody tr th:only-of-type {\n",
       "        vertical-align: middle;\n",
       "    }\n",
       "\n",
       "    .dataframe tbody tr th {\n",
       "        vertical-align: top;\n",
       "    }\n",
       "\n",
       "    .dataframe thead th {\n",
       "        text-align: right;\n",
       "    }\n",
       "</style>\n",
       "<table border=\"1\" class=\"dataframe\">\n",
       "  <thead>\n",
       "    <tr style=\"text-align: right;\">\n",
       "      <th></th>\n",
       "      <th>Recency</th>\n",
       "      <th>Frequency</th>\n",
       "      <th>Monetary</th>\n",
       "      <th>R</th>\n",
       "      <th>F</th>\n",
       "      <th>M</th>\n",
       "      <th>RFM</th>\n",
       "    </tr>\n",
       "    <tr>\n",
       "      <th>Customer ID</th>\n",
       "      <th></th>\n",
       "      <th></th>\n",
       "      <th></th>\n",
       "      <th></th>\n",
       "      <th></th>\n",
       "      <th></th>\n",
       "      <th></th>\n",
       "    </tr>\n",
       "  </thead>\n",
       "  <tbody>\n",
       "    <tr>\n",
       "      <th>12346.0</th>\n",
       "      <td>326</td>\n",
       "      <td>34</td>\n",
       "      <td>77556.46</td>\n",
       "      <td>2</td>\n",
       "      <td>2</td>\n",
       "      <td>5</td>\n",
       "      <td>225</td>\n",
       "    </tr>\n",
       "    <tr>\n",
       "      <th>12347.0</th>\n",
       "      <td>2</td>\n",
       "      <td>253</td>\n",
       "      <td>5633.32</td>\n",
       "      <td>5</td>\n",
       "      <td>5</td>\n",
       "      <td>5</td>\n",
       "      <td>555</td>\n",
       "    </tr>\n",
       "    <tr>\n",
       "      <th>12348.0</th>\n",
       "      <td>75</td>\n",
       "      <td>51</td>\n",
       "      <td>2019.40</td>\n",
       "      <td>3</td>\n",
       "      <td>3</td>\n",
       "      <td>4</td>\n",
       "      <td>334</td>\n",
       "    </tr>\n",
       "    <tr>\n",
       "      <th>12349.0</th>\n",
       "      <td>19</td>\n",
       "      <td>175</td>\n",
       "      <td>4428.69</td>\n",
       "      <td>5</td>\n",
       "      <td>4</td>\n",
       "      <td>5</td>\n",
       "      <td>545</td>\n",
       "    </tr>\n",
       "    <tr>\n",
       "      <th>12350.0</th>\n",
       "      <td>310</td>\n",
       "      <td>17</td>\n",
       "      <td>334.40</td>\n",
       "      <td>2</td>\n",
       "      <td>2</td>\n",
       "      <td>2</td>\n",
       "      <td>222</td>\n",
       "    </tr>\n",
       "  </tbody>\n",
       "</table>\n",
       "</div>"
      ],
      "text/plain": [
       "             Recency  Frequency  Monetary  R  F  M  RFM\n",
       "Customer ID                                            \n",
       "12346.0          326         34  77556.46  2  2  5  225\n",
       "12347.0            2        253   5633.32  5  5  5  555\n",
       "12348.0           75         51   2019.40  3  3  4  334\n",
       "12349.0           19        175   4428.69  5  4  5  545\n",
       "12350.0          310         17    334.40  2  2  2  222"
      ]
     },
     "execution_count": 76,
     "metadata": {},
     "output_type": "execute_result"
    }
   ],
   "source": [
    "# Create labels\n",
    "#r_labels = ['1','2','3','4']; f_labels = ['4','3','2','1']; m_labels = ['4','3','2','1']\n",
    "r_labels = [5,4,3,2,1]; f_labels = [1,2,3,4,5]; m_labels = [1,2,3,4,5]\n",
    "# Create 4 equal percentile groups \n",
    "r_groups = pd.qcut(data_rfm['Recency'], q=5, labels=r_labels)\n",
    "f_groups = pd.qcut(data_rfm['Frequency'], q=5, labels=f_labels)\n",
    "m_groups = pd.qcut(data_rfm['Monetary'], q=5, labels= m_labels)\n",
    "# Create new columns \n",
    "data_rfm = data_rfm.assign(R = r_groups.values, F = f_groups.values, M = m_groups.values)\n",
    "# Combine in a sinle column: \n",
    "data_rfm['RFM'] = data_rfm.R.astype(str)+ data_rfm.F.astype(str) + data_rfm.M.astype(str)\n",
    "data_rfm.head()\n"
   ]
  },
  {
   "cell_type": "markdown",
   "metadata": {},
   "source": [
    "We can check the top 10 best customers by low recency, high frequency and monetary and sort the first 10 by their monetary value."
   ]
  },
  {
   "cell_type": "code",
   "execution_count": 78,
   "metadata": {},
   "outputs": [
    {
     "data": {
      "text/html": [
       "<div>\n",
       "<style scoped>\n",
       "    .dataframe tbody tr th:only-of-type {\n",
       "        vertical-align: middle;\n",
       "    }\n",
       "\n",
       "    .dataframe tbody tr th {\n",
       "        vertical-align: top;\n",
       "    }\n",
       "\n",
       "    .dataframe thead th {\n",
       "        text-align: right;\n",
       "    }\n",
       "</style>\n",
       "<table border=\"1\" class=\"dataframe\">\n",
       "  <thead>\n",
       "    <tr style=\"text-align: right;\">\n",
       "      <th></th>\n",
       "      <th>Recency</th>\n",
       "      <th>Frequency</th>\n",
       "      <th>Monetary</th>\n",
       "      <th>R</th>\n",
       "      <th>F</th>\n",
       "      <th>M</th>\n",
       "      <th>RFM</th>\n",
       "    </tr>\n",
       "    <tr>\n",
       "      <th>Customer ID</th>\n",
       "      <th></th>\n",
       "      <th></th>\n",
       "      <th></th>\n",
       "      <th></th>\n",
       "      <th></th>\n",
       "      <th></th>\n",
       "      <th></th>\n",
       "    </tr>\n",
       "  </thead>\n",
       "  <tbody>\n",
       "    <tr>\n",
       "      <th>18102.0</th>\n",
       "      <td>1</td>\n",
       "      <td>1058</td>\n",
       "      <td>608821.65</td>\n",
       "      <td>5</td>\n",
       "      <td>5</td>\n",
       "      <td>5</td>\n",
       "      <td>555</td>\n",
       "    </tr>\n",
       "    <tr>\n",
       "      <th>14646.0</th>\n",
       "      <td>2</td>\n",
       "      <td>3854</td>\n",
       "      <td>528602.52</td>\n",
       "      <td>5</td>\n",
       "      <td>5</td>\n",
       "      <td>5</td>\n",
       "      <td>555</td>\n",
       "    </tr>\n",
       "    <tr>\n",
       "      <th>14156.0</th>\n",
       "      <td>10</td>\n",
       "      <td>4048</td>\n",
       "      <td>313946.37</td>\n",
       "      <td>5</td>\n",
       "      <td>5</td>\n",
       "      <td>5</td>\n",
       "      <td>555</td>\n",
       "    </tr>\n",
       "    <tr>\n",
       "      <th>14911.0</th>\n",
       "      <td>1</td>\n",
       "      <td>11247</td>\n",
       "      <td>295972.63</td>\n",
       "      <td>5</td>\n",
       "      <td>5</td>\n",
       "      <td>5</td>\n",
       "      <td>555</td>\n",
       "    </tr>\n",
       "    <tr>\n",
       "      <th>17450.0</th>\n",
       "      <td>8</td>\n",
       "      <td>425</td>\n",
       "      <td>246973.09</td>\n",
       "      <td>5</td>\n",
       "      <td>5</td>\n",
       "      <td>5</td>\n",
       "      <td>555</td>\n",
       "    </tr>\n",
       "    <tr>\n",
       "      <th>13694.0</th>\n",
       "      <td>4</td>\n",
       "      <td>1525</td>\n",
       "      <td>196482.81</td>\n",
       "      <td>5</td>\n",
       "      <td>5</td>\n",
       "      <td>5</td>\n",
       "      <td>555</td>\n",
       "    </tr>\n",
       "    <tr>\n",
       "      <th>17511.0</th>\n",
       "      <td>3</td>\n",
       "      <td>1911</td>\n",
       "      <td>175603.55</td>\n",
       "      <td>5</td>\n",
       "      <td>5</td>\n",
       "      <td>5</td>\n",
       "      <td>555</td>\n",
       "    </tr>\n",
       "    <tr>\n",
       "      <th>16684.0</th>\n",
       "      <td>4</td>\n",
       "      <td>718</td>\n",
       "      <td>147142.77</td>\n",
       "      <td>5</td>\n",
       "      <td>5</td>\n",
       "      <td>5</td>\n",
       "      <td>555</td>\n",
       "    </tr>\n",
       "    <tr>\n",
       "      <th>15061.0</th>\n",
       "      <td>4</td>\n",
       "      <td>987</td>\n",
       "      <td>137818.52</td>\n",
       "      <td>5</td>\n",
       "      <td>5</td>\n",
       "      <td>5</td>\n",
       "      <td>555</td>\n",
       "    </tr>\n",
       "    <tr>\n",
       "      <th>15311.0</th>\n",
       "      <td>1</td>\n",
       "      <td>4434</td>\n",
       "      <td>116771.16</td>\n",
       "      <td>5</td>\n",
       "      <td>5</td>\n",
       "      <td>5</td>\n",
       "      <td>555</td>\n",
       "    </tr>\n",
       "  </tbody>\n",
       "</table>\n",
       "</div>"
      ],
      "text/plain": [
       "             Recency  Frequency   Monetary  R  F  M  RFM\n",
       "Customer ID                                             \n",
       "18102.0            1       1058  608821.65  5  5  5  555\n",
       "14646.0            2       3854  528602.52  5  5  5  555\n",
       "14156.0           10       4048  313946.37  5  5  5  555\n",
       "14911.0            1      11247  295972.63  5  5  5  555\n",
       "17450.0            8        425  246973.09  5  5  5  555\n",
       "13694.0            4       1525  196482.81  5  5  5  555\n",
       "17511.0            3       1911  175603.55  5  5  5  555\n",
       "16684.0            4        718  147142.77  5  5  5  555\n",
       "15061.0            4        987  137818.52  5  5  5  555\n",
       "15311.0            1       4434  116771.16  5  5  5  555"
      ]
     },
     "execution_count": 78,
     "metadata": {},
     "output_type": "execute_result"
    }
   ],
   "source": [
    "data_rfm[data_rfm['RFM']=='555'].sort_values('Monetary', ascending=False).head(10)\n"
   ]
  },
  {
   "cell_type": "markdown",
   "metadata": {},
   "source": [
    "Let's group the customers into 11 segments based on the R, F, M values following the info given in this web page: \n",
    "https://www.putler.com/rfm-analysis/#:~:text=Applying%20RFM%20score%20formula,is%20the%20lowest%2Fworst%20value."
   ]
  },
  {
   "cell_type": "code",
   "execution_count": 79,
   "metadata": {},
   "outputs": [],
   "source": [
    "def rfm_class(df):\n",
    "    if ((df['R'] >= 4) and (df['R'] <= 5) and (df['F'] >= 4) and (df['F'] <= 5) and (df['M'] >= 4) and (df['M'] <= 5)):\n",
    "        return 'Champions'\n",
    "    elif ((df['R'] >= 2) and (df['R'] <= 5) and (df['F'] >= 3) and (df['F'] <= 5) and (df['M'] >= 3) and (df['M'] <= 5)):\n",
    "        return 'Loyal'\n",
    "    elif ((df['R'] >= 3) and (df['R'] <= 5) and (df['F'] >= 1) and (df['F'] <= 3) and (df['M'] >= 1) and (df['M'] <= 3)):\n",
    "        return 'Potential Loyalist'\n",
    "    elif ((df['R'] >= 4) and (df['R'] <= 5) and (df['F'] >= 1) and (df['M'] >= 1)):\n",
    "        return 'Recent'\n",
    "    elif ((df['R'] >= 3) and (df['R'] <= 4) and (df['F'] >= 1) and (df['M'] >= 1)):\n",
    "        return 'Promising'\n",
    "    elif ((df['R'] >= 2) and (df['R'] <= 3) and (df['F'] >= 2) and (df['F'] <= 3) and (df['M'] >= 2) and (df['M'] <= 3)):\n",
    "        return 'Need Attention'\n",
    "    elif ((df['R'] >= 2) and (df['R'] <= 3) and (df['F'] >= 1) and (df['F'] <= 2) and (df['M'] > 0) and (df['M'] <= 2)):\n",
    "        return 'About to Sleep'\n",
    "    elif ((df['R'] > 0) and (df['R'] <= 2) and (df['F'] >= 2) and (df['F'] <= 5) and (df['M'] >= 2) and (df['M'] <= 5)): \n",
    "        return 'At Risk'\n",
    "    elif ((df['R'] <= 1) and (df['F'] >= 4) and (df['F'] <= 5) and (df['M'] >= 4) and (df['M'] <= 5)): \n",
    "        return 'Cant Loose'\n",
    "    elif ((df['R'] >= 1) and (df['R'] <= 2) and (df['F'] >= 1) and (df['F'] <= 2) and (df['M'] >= 1) and (df['M'] <= 2)):\n",
    "        return 'Sleeping'\n",
    "    elif ((df['R'] >= 1) and (df['R'] <= 2) and (df['F'] >= 1) and (df['F'] <= 2) and (df['M'] >= 1) and (df['M'] <= 2)):\n",
    "        return 'Lost'\n",
    "    \n",
    "                                "
   ]
  },
  {
   "cell_type": "code",
   "execution_count": 80,
   "metadata": {},
   "outputs": [],
   "source": [
    "data_rfm['RFM Class'] = data_rfm.apply(rfm_class, axis=1)\n"
   ]
  },
  {
   "cell_type": "markdown",
   "metadata": {},
   "source": [
    "Let's see how many customers we have in each segment:"
   ]
  },
  {
   "cell_type": "code",
   "execution_count": 81,
   "metadata": {},
   "outputs": [
    {
     "data": {
      "text/html": [
       "<div>\n",
       "<style scoped>\n",
       "    .dataframe tbody tr th:only-of-type {\n",
       "        vertical-align: middle;\n",
       "    }\n",
       "\n",
       "    .dataframe tbody tr th {\n",
       "        vertical-align: top;\n",
       "    }\n",
       "\n",
       "    .dataframe thead th {\n",
       "        text-align: right;\n",
       "    }\n",
       "</style>\n",
       "<table border=\"1\" class=\"dataframe\">\n",
       "  <thead>\n",
       "    <tr style=\"text-align: right;\">\n",
       "      <th></th>\n",
       "      <th>count</th>\n",
       "      <th>unique</th>\n",
       "      <th>top</th>\n",
       "      <th>freq</th>\n",
       "    </tr>\n",
       "    <tr>\n",
       "      <th>RFM Class</th>\n",
       "      <th></th>\n",
       "      <th></th>\n",
       "      <th></th>\n",
       "      <th></th>\n",
       "    </tr>\n",
       "  </thead>\n",
       "  <tbody>\n",
       "    <tr>\n",
       "      <th>About to Sleep</th>\n",
       "      <td>342</td>\n",
       "      <td>1</td>\n",
       "      <td>About to Sleep</td>\n",
       "      <td>342</td>\n",
       "    </tr>\n",
       "    <tr>\n",
       "      <th>At Risk</th>\n",
       "      <td>585</td>\n",
       "      <td>1</td>\n",
       "      <td>At Risk</td>\n",
       "      <td>585</td>\n",
       "    </tr>\n",
       "    <tr>\n",
       "      <th>Champions</th>\n",
       "      <td>1273</td>\n",
       "      <td>1</td>\n",
       "      <td>Champions</td>\n",
       "      <td>1273</td>\n",
       "    </tr>\n",
       "    <tr>\n",
       "      <th>Loyal</th>\n",
       "      <td>1585</td>\n",
       "      <td>1</td>\n",
       "      <td>Loyal</td>\n",
       "      <td>1585</td>\n",
       "    </tr>\n",
       "    <tr>\n",
       "      <th>Need Attention</th>\n",
       "      <td>296</td>\n",
       "      <td>1</td>\n",
       "      <td>Need Attention</td>\n",
       "      <td>296</td>\n",
       "    </tr>\n",
       "    <tr>\n",
       "      <th>Potential Loyalist</th>\n",
       "      <td>938</td>\n",
       "      <td>1</td>\n",
       "      <td>Potential Loyalist</td>\n",
       "      <td>938</td>\n",
       "    </tr>\n",
       "    <tr>\n",
       "      <th>Promising</th>\n",
       "      <td>67</td>\n",
       "      <td>1</td>\n",
       "      <td>Promising</td>\n",
       "      <td>67</td>\n",
       "    </tr>\n",
       "    <tr>\n",
       "      <th>Recent</th>\n",
       "      <td>101</td>\n",
       "      <td>1</td>\n",
       "      <td>Recent</td>\n",
       "      <td>101</td>\n",
       "    </tr>\n",
       "    <tr>\n",
       "      <th>Sleeping</th>\n",
       "      <td>553</td>\n",
       "      <td>1</td>\n",
       "      <td>Sleeping</td>\n",
       "      <td>553</td>\n",
       "    </tr>\n",
       "  </tbody>\n",
       "</table>\n",
       "</div>"
      ],
      "text/plain": [
       "                   count unique                 top  freq\n",
       "RFM Class                                                \n",
       "About to Sleep       342      1      About to Sleep   342\n",
       "At Risk              585      1             At Risk   585\n",
       "Champions           1273      1           Champions  1273\n",
       "Loyal               1585      1               Loyal  1585\n",
       "Need Attention       296      1      Need Attention   296\n",
       "Potential Loyalist   938      1  Potential Loyalist   938\n",
       "Promising             67      1           Promising    67\n",
       "Recent               101      1              Recent   101\n",
       "Sleeping             553      1            Sleeping   553"
      ]
     },
     "execution_count": 81,
     "metadata": {},
     "output_type": "execute_result"
    }
   ],
   "source": [
    "data_rfm.groupby(['RFM Class'])['RFM Class'].describe()"
   ]
  },
  {
   "cell_type": "code",
   "execution_count": 151,
   "metadata": {},
   "outputs": [
    {
     "data": {
      "image/png": "[encoded data removed]",
      "text/plain": [
       "<Figure size 432x288 with 1 Axes>"
      ]
     },
     "metadata": {
      "needs_background": "light"
     },
     "output_type": "display_data"
    }
   ],
   "source": [
    "ax = data_rfm['RFM Class'].value_counts(normalize=True).plot(kind='barh', color=['c','c','c','r','r','r','r','c','c']);\n",
    "ax.set_alpha(0.5)\n",
    "ax.set_xlabel(\"Fraction of RFM Classes\", fontsize=10);\n",
    "ax.set_ylabel(\"RFM Class\", fontsize=10);"
   ]
  },
  {
   "cell_type": "markdown",
   "metadata": {},
   "source": [
    "This shows us that 65% of the customers are Loyal, Champions, Potential Loyalist. Let's also classify our customers by using a supervised machine learning method and find the ones churned or at high risk of churning.  "
   ]
  },
  {
   "cell_type": "code",
   "execution_count": 153,
   "metadata": {},
   "outputs": [
    {
     "data": {
      "image/png": "[encoded data removed]",
      "text/plain": [
       "<Figure size 432x288 with 1 Axes>"
      ]
     },
     "metadata": {
      "needs_background": "light"
     },
     "output_type": "display_data"
    }
   ],
   "source": [
    "ax_2=data_rfm.groupby(['RFM Class'])['Recency'].mean().sort_values(ascending=False).plot(kind='barh', color=['r','r','c','r','r','c','c','c','c']);\n",
    "ax_2.set_alpha(0.8)\n",
    "ax_2.set_xlabel(\"Average Recency\", fontsize=10);\n",
    "ax_2.set_ylabel(\"RFM Class\", fontsize=10);\n",
    "ax_2.set_xticks([0, 100, 200, 300, 400, 500, 600, 700])\n",
    "\n",
    "# set individual bar lables using above list\n",
    "for i in ax_2.patches:\n",
    "    # get_width pulls left or right; get_y pushes up or down\n",
    "    ax_2.text(i.get_width()+.1, i.get_y()+.11, \\\n",
    "            str(round((i.get_width()), 0)), fontsize=10, color='dimgrey')"
   ]
  },
  {
   "cell_type": "markdown",
   "metadata": {},
   "source": [
    "This plot shows that the recency of our best customers ('Champions') is on average 20 days. And when a customer on average buys something 2 months ago, that customer can be a 'potential loyalist'."
   ]
  },
  {
   "cell_type": "markdown",
   "metadata": {},
   "source": [
    "# Customer Churning Prediction"
   ]
  },
  {
   "cell_type": "markdown",
   "metadata": {},
   "source": [
    "We first create a subset of the data used in the RFM analysis, which contains only the first 18 months and then will use the last 6 months to find the customers that actually churned. At the same time, we will add one more column to the dataset that designates the number of days between the first and the last purchase of a customer, which we name 'Loyalty'."
   ]
  },
  {
   "cell_type": "code",
   "execution_count": 244,
   "metadata": {},
   "outputs": [],
   "source": [
    "df_f18m = df[df.InvoiceDate < '2011-06-09'].copy()\n",
    "\n",
    "recent_date = df_f18m['InvoiceDate'].max() + timedelta(days=1)\n",
    "\n",
    "df_f18m['Loyalty'] =df_f18m['InvoiceDate']\n",
    "cl_data_f18m = df_f18m.groupby(['Customer ID']).agg({\n",
    "        'InvoiceDate': lambda date: (recent_date - date.max()).days,\n",
    "        'Loyalty': lambda date: (recent_date - date.min()).days,\n",
    "        'Invoice': lambda num: len(num),\n",
    "        'Total': lambda price: price.sum()})\n",
    "cl_data_f18m.rename(columns={'InvoiceDate': 'Recency',\n",
    "                         'Invoice': 'Frequency',\n",
    "                         'Total': 'Monetary'}, inplace=True)\n",
    "cl_data_f18m['Churned']=''"
   ]
  },
  {
   "cell_type": "markdown",
   "metadata": {},
   "source": [
    "Bellow we make a copy of the full 24 month dataset, where we create a column with the label of whether a customer churned or not, using the full dataset. We will assume here that customers that did not buy something int he last 180 days, churned."
   ]
  },
  {
   "cell_type": "code",
   "execution_count": 245,
   "metadata": {},
   "outputs": [],
   "source": [
    "df_24m = df.copy()\n",
    "\n",
    "recent_date = df_24m['InvoiceDate'].max() + timedelta(days=1)\n",
    "df_24m['Loyalty'] =df_24m['InvoiceDate']\n",
    "cl_data_24m = df_24m.groupby(['Customer ID']).agg({\n",
    "        'InvoiceDate': lambda date: (recent_date - date.max()).days,\n",
    "        'Loyalty': lambda date: (recent_date - date.min()).days,\n",
    "        'Invoice': lambda num: len(num),\n",
    "        'Total': lambda price: price.sum()})\n",
    "cl_data_24m.rename(columns={'InvoiceDate': 'Recency',\n",
    "                         'Invoice': 'Frequency',\n",
    "                         'Total': 'Monetary'}, inplace=True)\n",
    "\n",
    "def churned(df):\n",
    "    if ((df['Recency'] >= 180)):\n",
    "        return 'Yes'\n",
    "    else:\n",
    "        return 'No'\n",
    "    \n",
    "    \n",
    "cl_data_24m['Churned'] = cl_data_24m.apply(churned, axis=1)"
   ]
  },
  {
   "cell_type": "code",
   "execution_count": 246,
   "metadata": {},
   "outputs": [],
   "source": [
    "for idx in cl_data_f18m.index:\n",
    "    cl_data_f18m.loc[idx,'Churned']  = cl_data_24m.loc[idx,'Churned']"
   ]
  },
  {
   "cell_type": "markdown",
   "metadata": {},
   "source": [
    "Let's see now, from the customers that we had in the first 18 months, how many churned?"
   ]
  },
  {
   "cell_type": "code",
   "execution_count": 247,
   "metadata": {},
   "outputs": [
    {
     "data": {
      "text/plain": [
       "No     2566\n",
       "Yes    2402\n",
       "Name: Churned, dtype: int64"
      ]
     },
     "execution_count": 247,
     "metadata": {},
     "output_type": "execute_result"
    },
    {
     "data": {
      "image/png": "[encoded data removed]",
      "text/plain": [
       "<Figure size 432x288 with 1 Axes>"
      ]
     },
     "metadata": {
      "needs_background": "light"
     },
     "output_type": "display_data"
    }
   ],
   "source": [
    "cl_data_f18m['Churned'].value_counts(normalize=True).plot(kind='bar', color=['powderblue', 'salmon']);\n",
    "cl_data_f18m['Churned'].value_counts()\n",
    "    "
   ]
  },
  {
   "cell_type": "markdown",
   "metadata": {},
   "source": [
    "About 45% of the customers (2402 customers) of the first 18 months churned. \n",
    "\n",
    "In the following, with a classification model we will find customers who are likely to churn. FOr that, we would like to add one more feature that shows the diversity in their purchase history. That can be represented by the number of unique items that they have bought."
   ]
  },
  {
   "cell_type": "code",
   "execution_count": 248,
   "metadata": {},
   "outputs": [],
   "source": [
    "cl_data_f18m['UniqueItems'] = df_f18m.groupby('Customer ID')['StockCode'].nunique()\n",
    "cl_data_24m['UniqueItems'] = df_24m.groupby('Customer ID')['StockCode'].nunique()"
   ]
  },
  {
   "cell_type": "markdown",
   "metadata": {},
   "source": [
    "For our classification analysis, we use the following variables as features: Recency, Loyalty, Frequency, Monetary, and UniqueItems. We need to convert these features to numerical data and rescale them."
   ]
  },
  {
   "cell_type": "code",
   "execution_count": 249,
   "metadata": {},
   "outputs": [],
   "source": [
    "#non-numeric columns to numerical data types\n",
    "for column in cl_data_f18m.columns:\n",
    "   if cl_data_f18m[column].dtype == np.number:\n",
    "      continue\n",
    "   cl_data_f18m[column] = LabelEncoder().fit_transform(cl_data_f18m[column])\n",
    "\n",
    "#Let's scale the cleaned data:\n",
    "X = cl_data_f18m.drop(columns=['Churned'])#, axis = 1) \n",
    "y = cl_data_f18m['Churned']\n",
    "X = StandardScaler().fit_transform(X)"
   ]
  },
  {
   "cell_type": "code",
   "execution_count": 250,
   "metadata": {},
   "outputs": [],
   "source": [
    "#Split the data into 80% training and 20% testing\n",
    "x_train, x_test, y_train, y_test = train_test_split(X, y, test_size=0.2, random_state=42)"
   ]
  },
  {
   "cell_type": "markdown",
   "metadata": {},
   "source": [
    "Now let's create and train our model."
   ]
  },
  {
   "cell_type": "code",
   "execution_count": 251,
   "metadata": {},
   "outputs": [
    {
     "name": "stderr",
     "output_type": "stream",
     "text": [
      "/Users/gozde/opt/anaconda3/lib/python3.7/site-packages/sklearn/linear_model/logistic.py:432: FutureWarning: Default solver will be changed to 'lbfgs' in 0.22. Specify a solver to silence this warning.\n",
      "  FutureWarning)\n"
     ]
    }
   ],
   "source": [
    "#Create the model\n",
    "model = LogisticRegression()\n",
    "#model = RandomForestClassifier(max_depth=2, random_state=0)\n",
    "#Train the model\n",
    "model.fit(x_train, y_train);"
   ]
  },
  {
   "cell_type": "markdown",
   "metadata": {},
   "source": [
    "Evaluation of the model:"
   ]
  },
  {
   "cell_type": "code",
   "execution_count": 252,
   "metadata": {},
   "outputs": [
    {
     "name": "stdout",
     "output_type": "stream",
     "text": [
      "              precision    recall  f1-score   support\n",
      "\n",
      "           0       0.74      0.72      0.73       501\n",
      "           1       0.72      0.75      0.74       493\n",
      "\n",
      "    accuracy                           0.73       994\n",
      "   macro avg       0.73      0.73      0.73       994\n",
      "weighted avg       0.73      0.73      0.73       994\n",
      "\n"
     ]
    }
   ],
   "source": [
    "predictions = model.predict(x_test)\n",
    "print( classification_report(y_test, predictions) )"
   ]
  },
  {
   "cell_type": "markdown",
   "metadata": {},
   "source": [
    "Recall, precission and f1-score of the model are about 75%. This means that the model correctly identified 3 out of 4 churning customers. This is not bad for a simple classification model. This can be improved by using more sofisticated algorithms and experimenting with different combinations of features in our model.  "
   ]
  },
  {
   "cell_type": "markdown",
   "metadata": {},
   "source": [
    "Now it is time to apply our classifier model in our full dataset. Customers that have not yet churned but are classified as \"churned\" by the classifier are customers with a high risk (~75% based on the accuracy of our model) of churning."
   ]
  },
  {
   "cell_type": "code",
   "execution_count": 253,
   "metadata": {},
   "outputs": [],
   "source": [
    "X = cl_data_24m.drop(columns=['Churned'])#, axis = 1) \n",
    "X = StandardScaler().fit_transform(X)\n",
    "cl_data_24m['Predicted'] = model.predict(X)"
   ]
  },
  {
   "cell_type": "code",
   "execution_count": 259,
   "metadata": {},
   "outputs": [
    {
     "data": {
      "text/html": [
       "<div>\n",
       "<style scoped>\n",
       "    .dataframe tbody tr th:only-of-type {\n",
       "        vertical-align: middle;\n",
       "    }\n",
       "\n",
       "    .dataframe tbody tr th {\n",
       "        vertical-align: top;\n",
       "    }\n",
       "\n",
       "    .dataframe thead th {\n",
       "        text-align: right;\n",
       "    }\n",
       "</style>\n",
       "<table border=\"1\" class=\"dataframe\">\n",
       "  <thead>\n",
       "    <tr style=\"text-align: right;\">\n",
       "      <th></th>\n",
       "      <th>Recency</th>\n",
       "      <th>Loyalty</th>\n",
       "      <th>Frequency</th>\n",
       "      <th>Monetary</th>\n",
       "      <th>Churned</th>\n",
       "      <th>UniqueItems</th>\n",
       "      <th>Predicted</th>\n",
       "    </tr>\n",
       "    <tr>\n",
       "      <th>Customer ID</th>\n",
       "      <th></th>\n",
       "      <th></th>\n",
       "      <th></th>\n",
       "      <th></th>\n",
       "      <th></th>\n",
       "      <th></th>\n",
       "      <th></th>\n",
       "    </tr>\n",
       "  </thead>\n",
       "  <tbody>\n",
       "    <tr>\n",
       "      <th>12346.0</th>\n",
       "      <td>326</td>\n",
       "      <td>726</td>\n",
       "      <td>34</td>\n",
       "      <td>77556.46</td>\n",
       "      <td>Yes</td>\n",
       "      <td>27</td>\n",
       "      <td>0</td>\n",
       "    </tr>\n",
       "    <tr>\n",
       "      <th>12347.0</th>\n",
       "      <td>2</td>\n",
       "      <td>404</td>\n",
       "      <td>253</td>\n",
       "      <td>5633.32</td>\n",
       "      <td>No</td>\n",
       "      <td>126</td>\n",
       "      <td>0</td>\n",
       "    </tr>\n",
       "    <tr>\n",
       "      <th>12348.0</th>\n",
       "      <td>75</td>\n",
       "      <td>438</td>\n",
       "      <td>51</td>\n",
       "      <td>2019.40</td>\n",
       "      <td>No</td>\n",
       "      <td>25</td>\n",
       "      <td>0</td>\n",
       "    </tr>\n",
       "    <tr>\n",
       "      <th>12349.0</th>\n",
       "      <td>19</td>\n",
       "      <td>589</td>\n",
       "      <td>175</td>\n",
       "      <td>4428.69</td>\n",
       "      <td>No</td>\n",
       "      <td>138</td>\n",
       "      <td>0</td>\n",
       "    </tr>\n",
       "    <tr>\n",
       "      <th>12350.0</th>\n",
       "      <td>310</td>\n",
       "      <td>310</td>\n",
       "      <td>17</td>\n",
       "      <td>334.40</td>\n",
       "      <td>Yes</td>\n",
       "      <td>17</td>\n",
       "      <td>1</td>\n",
       "    </tr>\n",
       "    <tr>\n",
       "      <th>...</th>\n",
       "      <td>...</td>\n",
       "      <td>...</td>\n",
       "      <td>...</td>\n",
       "      <td>...</td>\n",
       "      <td>...</td>\n",
       "      <td>...</td>\n",
       "      <td>...</td>\n",
       "    </tr>\n",
       "    <tr>\n",
       "      <th>18283.0</th>\n",
       "      <td>4</td>\n",
       "      <td>658</td>\n",
       "      <td>986</td>\n",
       "      <td>2736.65</td>\n",
       "      <td>No</td>\n",
       "      <td>352</td>\n",
       "      <td>0</td>\n",
       "    </tr>\n",
       "    <tr>\n",
       "      <th>18284.0</th>\n",
       "      <td>432</td>\n",
       "      <td>432</td>\n",
       "      <td>28</td>\n",
       "      <td>461.68</td>\n",
       "      <td>Yes</td>\n",
       "      <td>28</td>\n",
       "      <td>1</td>\n",
       "    </tr>\n",
       "    <tr>\n",
       "      <th>18285.0</th>\n",
       "      <td>661</td>\n",
       "      <td>661</td>\n",
       "      <td>12</td>\n",
       "      <td>427.00</td>\n",
       "      <td>Yes</td>\n",
       "      <td>12</td>\n",
       "      <td>1</td>\n",
       "    </tr>\n",
       "    <tr>\n",
       "      <th>18286.0</th>\n",
       "      <td>477</td>\n",
       "      <td>724</td>\n",
       "      <td>67</td>\n",
       "      <td>1296.43</td>\n",
       "      <td>Yes</td>\n",
       "      <td>67</td>\n",
       "      <td>1</td>\n",
       "    </tr>\n",
       "    <tr>\n",
       "      <th>18287.0</th>\n",
       "      <td>43</td>\n",
       "      <td>572</td>\n",
       "      <td>155</td>\n",
       "      <td>4182.99</td>\n",
       "      <td>No</td>\n",
       "      <td>120</td>\n",
       "      <td>0</td>\n",
       "    </tr>\n",
       "  </tbody>\n",
       "</table>\n",
       "<p>5881 rows × 7 columns</p>\n",
       "</div>"
      ],
      "text/plain": [
       "             Recency  Loyalty  Frequency  Monetary Churned  UniqueItems  \\\n",
       "Customer ID                                                               \n",
       "12346.0          326      726         34  77556.46     Yes           27   \n",
       "12347.0            2      404        253   5633.32      No          126   \n",
       "12348.0           75      438         51   2019.40      No           25   \n",
       "12349.0           19      589        175   4428.69      No          138   \n",
       "12350.0          310      310         17    334.40     Yes           17   \n",
       "...              ...      ...        ...       ...     ...          ...   \n",
       "18283.0            4      658        986   2736.65      No          352   \n",
       "18284.0          432      432         28    461.68     Yes           28   \n",
       "18285.0          661      661         12    427.00     Yes           12   \n",
       "18286.0          477      724         67   1296.43     Yes           67   \n",
       "18287.0           43      572        155   4182.99      No          120   \n",
       "\n",
       "             Predicted  \n",
       "Customer ID             \n",
       "12346.0              0  \n",
       "12347.0              0  \n",
       "12348.0              0  \n",
       "12349.0              0  \n",
       "12350.0              1  \n",
       "...                ...  \n",
       "18283.0              0  \n",
       "18284.0              1  \n",
       "18285.0              1  \n",
       "18286.0              1  \n",
       "18287.0              0  \n",
       "\n",
       "[5881 rows x 7 columns]"
      ]
     },
     "execution_count": 259,
     "metadata": {},
     "output_type": "execute_result"
    }
   ],
   "source": [
    "cl_data_24m"
   ]
  },
  {
   "cell_type": "markdown",
   "metadata": {},
   "source": [
    "Print the customers at high risk of churning:"
   ]
  },
  {
   "cell_type": "code",
   "execution_count": 258,
   "metadata": {},
   "outputs": [
    {
     "data": {
      "text/html": [
       "<div>\n",
       "<style scoped>\n",
       "    .dataframe tbody tr th:only-of-type {\n",
       "        vertical-align: middle;\n",
       "    }\n",
       "\n",
       "    .dataframe tbody tr th {\n",
       "        vertical-align: top;\n",
       "    }\n",
       "\n",
       "    .dataframe thead th {\n",
       "        text-align: right;\n",
       "    }\n",
       "</style>\n",
       "<table border=\"1\" class=\"dataframe\">\n",
       "  <thead>\n",
       "    <tr style=\"text-align: right;\">\n",
       "      <th></th>\n",
       "      <th>Recency</th>\n",
       "      <th>Loyalty</th>\n",
       "      <th>Frequency</th>\n",
       "      <th>Monetary</th>\n",
       "      <th>Churned</th>\n",
       "      <th>UniqueItems</th>\n",
       "      <th>Predicted</th>\n",
       "    </tr>\n",
       "    <tr>\n",
       "      <th>Customer ID</th>\n",
       "      <th></th>\n",
       "      <th></th>\n",
       "      <th></th>\n",
       "      <th></th>\n",
       "      <th></th>\n",
       "      <th></th>\n",
       "      <th></th>\n",
       "    </tr>\n",
       "  </thead>\n",
       "  <tbody>\n",
       "    <tr>\n",
       "      <th>12405.0</th>\n",
       "      <td>149</td>\n",
       "      <td>149</td>\n",
       "      <td>54</td>\n",
       "      <td>1710.39</td>\n",
       "      <td>No</td>\n",
       "      <td>54</td>\n",
       "      <td>1</td>\n",
       "    </tr>\n",
       "    <tr>\n",
       "      <th>12453.0</th>\n",
       "      <td>134</td>\n",
       "      <td>134</td>\n",
       "      <td>43</td>\n",
       "      <td>707.09</td>\n",
       "      <td>No</td>\n",
       "      <td>43</td>\n",
       "      <td>1</td>\n",
       "    </tr>\n",
       "    <tr>\n",
       "      <th>12493.0</th>\n",
       "      <td>166</td>\n",
       "      <td>197</td>\n",
       "      <td>22</td>\n",
       "      <td>433.74</td>\n",
       "      <td>No</td>\n",
       "      <td>20</td>\n",
       "      <td>1</td>\n",
       "    </tr>\n",
       "    <tr>\n",
       "      <th>12521.0</th>\n",
       "      <td>143</td>\n",
       "      <td>143</td>\n",
       "      <td>38</td>\n",
       "      <td>599.68</td>\n",
       "      <td>No</td>\n",
       "      <td>38</td>\n",
       "      <td>1</td>\n",
       "    </tr>\n",
       "    <tr>\n",
       "      <th>12534.0</th>\n",
       "      <td>131</td>\n",
       "      <td>131</td>\n",
       "      <td>63</td>\n",
       "      <td>1089.18</td>\n",
       "      <td>No</td>\n",
       "      <td>63</td>\n",
       "      <td>1</td>\n",
       "    </tr>\n",
       "    <tr>\n",
       "      <th>...</th>\n",
       "      <td>...</td>\n",
       "      <td>...</td>\n",
       "      <td>...</td>\n",
       "      <td>...</td>\n",
       "      <td>...</td>\n",
       "      <td>...</td>\n",
       "      <td>...</td>\n",
       "    </tr>\n",
       "    <tr>\n",
       "      <th>18024.0</th>\n",
       "      <td>153</td>\n",
       "      <td>153</td>\n",
       "      <td>21</td>\n",
       "      <td>389.78</td>\n",
       "      <td>No</td>\n",
       "      <td>21</td>\n",
       "      <td>1</td>\n",
       "    </tr>\n",
       "    <tr>\n",
       "      <th>18099.0</th>\n",
       "      <td>127</td>\n",
       "      <td>127</td>\n",
       "      <td>19</td>\n",
       "      <td>168.31</td>\n",
       "      <td>No</td>\n",
       "      <td>19</td>\n",
       "      <td>1</td>\n",
       "    </tr>\n",
       "    <tr>\n",
       "      <th>18121.0</th>\n",
       "      <td>149</td>\n",
       "      <td>155</td>\n",
       "      <td>32</td>\n",
       "      <td>673.10</td>\n",
       "      <td>No</td>\n",
       "      <td>28</td>\n",
       "      <td>1</td>\n",
       "    </tr>\n",
       "    <tr>\n",
       "      <th>18142.0</th>\n",
       "      <td>157</td>\n",
       "      <td>216</td>\n",
       "      <td>15</td>\n",
       "      <td>1019.52</td>\n",
       "      <td>No</td>\n",
       "      <td>9</td>\n",
       "      <td>1</td>\n",
       "    </tr>\n",
       "    <tr>\n",
       "      <th>18165.0</th>\n",
       "      <td>177</td>\n",
       "      <td>177</td>\n",
       "      <td>10</td>\n",
       "      <td>302.46</td>\n",
       "      <td>No</td>\n",
       "      <td>10</td>\n",
       "      <td>1</td>\n",
       "    </tr>\n",
       "  </tbody>\n",
       "</table>\n",
       "<p>102 rows × 7 columns</p>\n",
       "</div>"
      ],
      "text/plain": [
       "             Recency  Loyalty  Frequency  Monetary Churned  UniqueItems  \\\n",
       "Customer ID                                                               \n",
       "12405.0          149      149         54   1710.39      No           54   \n",
       "12453.0          134      134         43    707.09      No           43   \n",
       "12493.0          166      197         22    433.74      No           20   \n",
       "12521.0          143      143         38    599.68      No           38   \n",
       "12534.0          131      131         63   1089.18      No           63   \n",
       "...              ...      ...        ...       ...     ...          ...   \n",
       "18024.0          153      153         21    389.78      No           21   \n",
       "18099.0          127      127         19    168.31      No           19   \n",
       "18121.0          149      155         32    673.10      No           28   \n",
       "18142.0          157      216         15   1019.52      No            9   \n",
       "18165.0          177      177         10    302.46      No           10   \n",
       "\n",
       "             Predicted  \n",
       "Customer ID             \n",
       "12405.0              1  \n",
       "12453.0              1  \n",
       "12493.0              1  \n",
       "12521.0              1  \n",
       "12534.0              1  \n",
       "...                ...  \n",
       "18024.0              1  \n",
       "18099.0              1  \n",
       "18121.0              1  \n",
       "18142.0              1  \n",
       "18165.0              1  \n",
       "\n",
       "[102 rows x 7 columns]"
      ]
     },
     "execution_count": 258,
     "metadata": {},
     "output_type": "execute_result"
    }
   ],
   "source": [
    "high_risk_customers = cl_data_24m[(cl_data_24m['Predicted'] ==1) & (cl_data_24m['Churned'] =='No')]\n",
    "high_risk_customers"
   ]
  },
  {
   "cell_type": "markdown",
   "metadata": {},
   "source": [
    "Based on our model, with the acuracy of 75%, 102 customers are at high risk of churning at the second half of 2011. "
   ]
  },
  {
   "cell_type": "code",
   "execution_count": null,
   "metadata": {},
   "outputs": [],
   "source": []
  }
 ],
 "metadata": {
  "kernelspec": {
   "display_name": "Python 3",
   "language": "python",
   "name": "python3"
  },
  "language_info": {
   "codemirror_mode": {
    "name": "ipython",
    "version": 3
   },
   "file_extension": ".py",
   "mimetype": "text/x-python",
   "name": "python",
   "nbconvert_exporter": "python",
   "pygments_lexer": "ipython3",
   "version": "3.7.6"
  }
 },
 "nbformat": 4,
 "nbformat_minor": 4
}
